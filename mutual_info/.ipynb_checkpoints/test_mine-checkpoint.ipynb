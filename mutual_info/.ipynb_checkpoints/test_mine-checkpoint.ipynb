{
 "cells": [
  {
   "cell_type": "code",
   "execution_count": 1,
   "metadata": {
    "collapsed": true,
    "ExecuteTime": {
     "end_time": "2024-09-04T01:42:36.163725700Z",
     "start_time": "2024-09-04T01:42:33.150789600Z"
    }
   },
   "outputs": [],
   "source": [
    "from mi_estimator import *"
   ]
  },
  {
   "cell_type": "code",
   "execution_count": 3,
   "outputs": [
    {
     "name": "stdout",
     "output_type": "stream",
     "text": [
      "1.5080365\n",
      "1.9962085\n",
      "2.2062783\n",
      "0.06935179\n",
      "0.16246355\n"
     ]
    }
   ],
   "source": [
    "features, target, _, _ = extract_data4vfl_2(indice_begin=0, indice_end=len(InitParameters.DATA_LIST),\n",
    "                                                count_parties=InitParameters.NUM_PASSIVE_CLIENTS)\n",
    "features = [f.transpose(0, 1, 3, 2) for f in features]\n",
    "x_dim = np.prod(features[0].shape[1:]).item()\n",
    "y_dim = np.prod(target.shape[1:]).item()\n",
    "# This is the net utilized to calculate the mutual information of two distributions\n",
    "mi_est_1 = MINE(input_size=x_dim+y_dim, hidden_size=100).to(device='cuda')\n",
    "mi_est_1_optim = optim.Adam(mi_est_1.parameters(), lr=1e-3, weight_decay=5e-3)\n",
    "train_features = [f.reshape(f.shape[0], -1)[:300] for f in features]\n",
    "train_target = target.reshape(target.shape[0], -1)[:300]\n",
    "data = np.concatenate((train_features[0], train_target), axis=1)\n",
    "res = mi_train(data=data, mine_net=mi_est_1, mine_net_optim=mi_est_1_optim, x_dim=x_dim)"
   ],
   "metadata": {
    "collapsed": false,
    "ExecuteTime": {
     "end_time": "2024-09-04T01:44:02.780450100Z",
     "start_time": "2024-09-04T01:43:52.786084900Z"
    }
   }
  },
  {
   "cell_type": "code",
   "execution_count": 4,
   "outputs": [],
   "source": [
    "def mi_data_processing(x_data, y_data, sample_count):\n",
    "    features = [f.transpose(0, 1, 3, 2) for f in x_data]\n",
    "    x_dim = np.prod(features[0].shape[1:]).item()\n",
    "    train_features = [f.reshape(f.shape[0], -1) for f in features]\n",
    "    train_target = y_data.reshape(y_data.shape[0], -1)\n",
    "    data = np.concatenate((train_features[0], train_target), axis=1)\n",
    "    _data_joint = sample_batch(data, x_dim, sample_count)\n",
    "    _data_marginal = sample_batch(data, x_dim, sample_count, 'marginal')\n",
    "    _data_joint = torch.tensor(_data_joint, dtype=torch.float32, device='cuda')\n",
    "    _data_marginal = torch.tensor(_data_marginal, dtype=torch.float32, device='cuda')\n",
    "\n",
    "    return _data_joint, _data_marginal"
   ],
   "metadata": {
    "collapsed": false,
    "ExecuteTime": {
     "end_time": "2024-09-04T01:45:08.430004Z",
     "start_time": "2024-09-04T01:45:08.424833200Z"
    }
   }
  },
  {
   "cell_type": "code",
   "execution_count": 5,
   "outputs": [],
   "source": [
    "features_m, target_m, _, _ = extract_data4vfl_2(indice_begin=0, indice_end=len(InitParameters.DATA_LIST),\n",
    "                                                count_parties=InitParameters.NUM_PASSIVE_CLIENTS, malicious_flag=1, malicious_exist=True)"
   ],
   "metadata": {
    "collapsed": false,
    "ExecuteTime": {
     "end_time": "2024-09-04T01:45:10.368107100Z",
     "start_time": "2024-09-04T01:45:10.312716900Z"
    }
   }
  },
  {
   "cell_type": "code",
   "execution_count": 6,
   "outputs": [],
   "source": [
    "data_joint, data_marginal = mi_data_processing(features_m, target_m, sample_count=10)\n",
    "mi_out, _, _ = mutual_information(data_joint, data_marginal, mi_est_1)"
   ],
   "metadata": {
    "collapsed": false,
    "ExecuteTime": {
     "end_time": "2024-09-04T01:45:14.966607600Z",
     "start_time": "2024-09-04T01:45:14.953114600Z"
    }
   }
  },
  {
   "cell_type": "code",
   "execution_count": 7,
   "outputs": [
    {
     "name": "stdout",
     "output_type": "stream",
     "text": [
      "0.14452064037322998\n"
     ]
    }
   ],
   "source": [
    "print(mi_out.detach().cpu().item())"
   ],
   "metadata": {
    "collapsed": false,
    "ExecuteTime": {
     "end_time": "2024-09-04T01:45:17.225090100Z",
     "start_time": "2024-09-04T01:45:17.217545Z"
    }
   }
  },
  {
   "cell_type": "code",
   "execution_count": 8,
   "outputs": [
    {
     "name": "stdout",
     "output_type": "stream",
     "text": [
      "0.14452064037322998\n"
     ]
    }
   ],
   "source": [
    "features_m2, target_m2, _, _ = extract_data4vfl_2(indice_begin=0, indice_end=len(InitParameters.DATA_LIST),\n",
    "                                                count_parties=InitParameters.NUM_PASSIVE_CLIENTS, malicious_flag=2, malicious_exist=True)\n",
    "data_joint_2, data_marginal_2 = mi_data_processing(features_m2, target_m2, sample_count=10)\n",
    "mi_out_m2, _, _ = mutual_information(data_joint_2, data_marginal_2, mi_est_1)\n",
    "print(mi_out_m2.detach().cpu().item())"
   ],
   "metadata": {
    "collapsed": false,
    "ExecuteTime": {
     "end_time": "2024-09-04T01:45:23.031489700Z",
     "start_time": "2024-09-04T01:45:22.969027Z"
    }
   }
  },
  {
   "cell_type": "code",
   "execution_count": 9,
   "outputs": [
    {
     "name": "stdout",
     "output_type": "stream",
     "text": [
      "0.3057039976119995\n"
     ]
    }
   ],
   "source": [
    "features_, target_, _, _ = extract_data4vfl_2(indice_begin=0, indice_end=len(InitParameters.DATA_LIST),\n",
    "                                                count_parties=InitParameters.NUM_PASSIVE_CLIENTS)\n",
    "data_joint_, data_marginal_ = mi_data_processing(features_, target_, sample_count=10)\n",
    "mi_out_, _, _ = mutual_information(data_joint_, data_marginal_, mi_est_1)\n",
    "print(mi_out_.detach().cpu().item())"
   ],
   "metadata": {
    "collapsed": false,
    "ExecuteTime": {
     "end_time": "2024-09-04T01:45:30.857992100Z",
     "start_time": "2024-09-04T01:45:30.805903100Z"
    }
   }
  },
  {
   "cell_type": "code",
   "execution_count": 12,
   "outputs": [
    {
     "name": "stdout",
     "output_type": "stream",
     "text": [
      "0.14452064037322998\n"
     ]
    }
   ],
   "source": [
    "from InitParas import InitParameters\n",
    "\n",
    "features_m3, target_m3, _, _ = extract_data4vfl_2(indice_begin=0, indice_end=len(InitParameters.DATA_LIST),\n",
    "                                                count_parties=InitParameters.NUM_PASSIVE_CLIENTS, malicious_flag=1, malicious_exist=True)\n",
    "data_joint_3, data_marginal_3 = mi_data_processing(features_m3, target_m3, sample_count=10)\n",
    "mi_out_m3, _, _ = mutual_information(data_joint_3, data_marginal_3, mi_est_1)\n",
    "print(mi_out_m3.detach().cpu().item())"
   ],
   "metadata": {
    "collapsed": false,
    "ExecuteTime": {
     "end_time": "2024-09-04T01:56:04.716835200Z",
     "start_time": "2024-09-04T01:56:04.659671400Z"
    }
   }
  },
  {
   "cell_type": "code",
   "execution_count": 16,
   "outputs": [
    {
     "name": "stdout",
     "output_type": "stream",
     "text": [
      "0 1\n"
     ]
    }
   ],
   "source": [
    "from InitParas import InitParameters\n",
    "print(InitParameters.NOISE_MEAN, InitParameters.NOISE_STD)"
   ],
   "metadata": {
    "collapsed": false,
    "ExecuteTime": {
     "end_time": "2024-09-04T01:57:26.703779400Z",
     "start_time": "2024-09-04T01:57:26.701301700Z"
    }
   }
  },
  {
   "cell_type": "code",
   "execution_count": null,
   "outputs": [],
   "source": [],
   "metadata": {
    "collapsed": false
   }
  }
 ],
 "metadata": {
  "kernelspec": {
   "display_name": "Python 3",
   "language": "python",
   "name": "python3"
  },
  "language_info": {
   "codemirror_mode": {
    "name": "ipython",
    "version": 2
   },
   "file_extension": ".py",
   "mimetype": "text/x-python",
   "name": "python",
   "nbconvert_exporter": "python",
   "pygments_lexer": "ipython2",
   "version": "2.7.6"
  }
 },
 "nbformat": 4,
 "nbformat_minor": 0
}
