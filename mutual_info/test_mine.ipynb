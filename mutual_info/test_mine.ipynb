{
 "cells": [
  {
   "cell_type": "code",
   "execution_count": 1,
   "metadata": {
    "collapsed": true,
    "ExecuteTime": {
     "end_time": "2024-11-13T04:49:50.408678600Z",
     "start_time": "2024-11-13T04:49:47.074316800Z"
    }
   },
   "outputs": [],
   "source": [
    "import random\n",
    "from DataPreProcessing.utils.dataprocessutils import extract_data4vfl_2\n",
    "from mi_estimator import *"
   ]
  },
  {
   "cell_type": "code",
   "execution_count": 2,
   "outputs": [
    {
     "name": "stdout",
     "output_type": "stream",
     "text": [
      "2.101979\n",
      "2.443936\n",
      "2.7681594\n",
      "3.1888585\n"
     ]
    },
    {
     "ename": "KeyboardInterrupt",
     "evalue": "",
     "output_type": "error",
     "traceback": [
      "\u001B[1;31m---------------------------------------------------------------------------\u001B[0m",
      "\u001B[1;31mKeyboardInterrupt\u001B[0m                         Traceback (most recent call last)",
      "Cell \u001B[1;32mIn[2], line 12\u001B[0m\n\u001B[0;32m     10\u001B[0m mi_est_optim \u001B[38;5;241m=\u001B[39m optim\u001B[38;5;241m.\u001B[39mAdam(mi_est\u001B[38;5;241m.\u001B[39mparameters(), lr\u001B[38;5;241m=\u001B[39m\u001B[38;5;241m2e-4\u001B[39m)\n\u001B[0;32m     11\u001B[0m data \u001B[38;5;241m=\u001B[39m np\u001B[38;5;241m.\u001B[39mconcatenate((cl_f, train_target), axis\u001B[38;5;241m=\u001B[39m\u001B[38;5;241m1\u001B[39m)\n\u001B[1;32m---> 12\u001B[0m res \u001B[38;5;241m=\u001B[39m mi_train(data\u001B[38;5;241m=\u001B[39mdata, mine_net\u001B[38;5;241m=\u001B[39mmi_est, mine_net_optim\u001B[38;5;241m=\u001B[39mmi_est_optim, x_dim\u001B[38;5;241m=\u001B[39mx_dim)\n\u001B[0;32m     14\u001B[0m model_save_pth \u001B[38;5;241m=\u001B[39m \u001B[38;5;124mf\u001B[39m\u001B[38;5;124m\"\u001B[39m\u001B[38;5;124m..\u001B[39m\u001B[38;5;130;01m\\\\\u001B[39;00m\u001B[38;5;124mcheckpoints\u001B[39m\u001B[38;5;130;01m\\\\\u001B[39;00m\u001B[38;5;124mmi_est_\u001B[39m\u001B[38;5;132;01m{\u001B[39;00mcl_index\u001B[38;5;241m+\u001B[39m\u001B[38;5;241m1\u001B[39m\u001B[38;5;132;01m}\u001B[39;00m\u001B[38;5;124m.pth\u001B[39m\u001B[38;5;124m\"\u001B[39m\n\u001B[0;32m     15\u001B[0m torch\u001B[38;5;241m.\u001B[39msave(mi_est, model_save_pth)\n",
      "File \u001B[1;32mE:\\Coding\\pythonProject\\VFL4AD\\mutual_info\\mi_estimator.py:51\u001B[0m, in \u001B[0;36mmi_train\u001B[1;34m(data, mine_net, mine_net_optim, x_dim, batch_size, iter_num, log_freq)\u001B[0m\n\u001B[0;32m     49\u001B[0m \u001B[38;5;28;01mfor\u001B[39;00m i \u001B[38;5;129;01min\u001B[39;00m \u001B[38;5;28mrange\u001B[39m(iter_num):\n\u001B[0;32m     50\u001B[0m     batch \u001B[38;5;241m=\u001B[39m sample_batch(data, x_dim, batch_size\u001B[38;5;241m=\u001B[39mbatch_size), sample_batch(data, x_dim, batch_size\u001B[38;5;241m=\u001B[39mbatch_size, sample_mode\u001B[38;5;241m=\u001B[39m\u001B[38;5;124m'\u001B[39m\u001B[38;5;124mmarginal\u001B[39m\u001B[38;5;124m'\u001B[39m)\n\u001B[1;32m---> 51\u001B[0m     mi_lb, ma_et \u001B[38;5;241m=\u001B[39m learn_mine(batch, mine_net, mine_net_optim, ma_et)\n\u001B[0;32m     52\u001B[0m     result\u001B[38;5;241m.\u001B[39mappend(mi_lb\u001B[38;5;241m.\u001B[39mdetach()\u001B[38;5;241m.\u001B[39mcpu()\u001B[38;5;241m.\u001B[39mnumpy())\n\u001B[0;32m     53\u001B[0m     \u001B[38;5;28;01mif\u001B[39;00m (i\u001B[38;5;241m+\u001B[39m\u001B[38;5;241m1\u001B[39m) \u001B[38;5;241m%\u001B[39m (log_freq) \u001B[38;5;241m==\u001B[39m \u001B[38;5;241m0\u001B[39m:\n",
      "File \u001B[1;32mE:\\Coding\\pythonProject\\VFL4AD\\mutual_info\\mi_estimator.py:30\u001B[0m, in \u001B[0;36mlearn_mine\u001B[1;34m(batch, mine_net, mine_net_optim, ma_et, ma_rate)\u001B[0m\n\u001B[0;32m     26\u001B[0m \u001B[38;5;66;03m# use biased estimator\u001B[39;00m\n\u001B[0;32m     27\u001B[0m \u001B[38;5;66;03m#     loss = - mi_lb\u001B[39;00m\n\u001B[0;32m     29\u001B[0m mine_net_optim\u001B[38;5;241m.\u001B[39mzero_grad()\n\u001B[1;32m---> 30\u001B[0m loss\u001B[38;5;241m.\u001B[39mbackward()\n\u001B[0;32m     31\u001B[0m mine_net_optim\u001B[38;5;241m.\u001B[39mstep()\n\u001B[0;32m     32\u001B[0m \u001B[38;5;28;01mreturn\u001B[39;00m mi_lb, ma_et\n",
      "File \u001B[1;32mD:\\Software\\anaconda3\\envs\\ox\\Lib\\site-packages\\torch\\_tensor.py:522\u001B[0m, in \u001B[0;36mTensor.backward\u001B[1;34m(self, gradient, retain_graph, create_graph, inputs)\u001B[0m\n\u001B[0;32m    512\u001B[0m \u001B[38;5;28;01mif\u001B[39;00m has_torch_function_unary(\u001B[38;5;28mself\u001B[39m):\n\u001B[0;32m    513\u001B[0m     \u001B[38;5;28;01mreturn\u001B[39;00m handle_torch_function(\n\u001B[0;32m    514\u001B[0m         Tensor\u001B[38;5;241m.\u001B[39mbackward,\n\u001B[0;32m    515\u001B[0m         (\u001B[38;5;28mself\u001B[39m,),\n\u001B[1;32m   (...)\u001B[0m\n\u001B[0;32m    520\u001B[0m         inputs\u001B[38;5;241m=\u001B[39minputs,\n\u001B[0;32m    521\u001B[0m     )\n\u001B[1;32m--> 522\u001B[0m torch\u001B[38;5;241m.\u001B[39mautograd\u001B[38;5;241m.\u001B[39mbackward(\n\u001B[0;32m    523\u001B[0m     \u001B[38;5;28mself\u001B[39m, gradient, retain_graph, create_graph, inputs\u001B[38;5;241m=\u001B[39minputs\n\u001B[0;32m    524\u001B[0m )\n",
      "File \u001B[1;32mD:\\Software\\anaconda3\\envs\\ox\\Lib\\site-packages\\torch\\autograd\\__init__.py:347\u001B[0m, in \u001B[0;36mbackward\u001B[1;34m(tensors, grad_tensors, retain_graph, create_graph, grad_variables, inputs)\u001B[0m\n\u001B[0;32m    342\u001B[0m     retain_graph \u001B[38;5;241m=\u001B[39m create_graph\n\u001B[0;32m    344\u001B[0m \u001B[38;5;66;03m# The reason we repeat the same comment below is that\u001B[39;00m\n\u001B[0;32m    345\u001B[0m \u001B[38;5;66;03m# some Python versions print out the first line of a multi-line function\u001B[39;00m\n\u001B[0;32m    346\u001B[0m \u001B[38;5;66;03m# calls in the traceback and some print out the last line\u001B[39;00m\n\u001B[1;32m--> 347\u001B[0m _engine_run_backward(\n\u001B[0;32m    348\u001B[0m     tensors,\n\u001B[0;32m    349\u001B[0m     grad_tensors_,\n\u001B[0;32m    350\u001B[0m     retain_graph,\n\u001B[0;32m    351\u001B[0m     create_graph,\n\u001B[0;32m    352\u001B[0m     inputs,\n\u001B[0;32m    353\u001B[0m     allow_unreachable\u001B[38;5;241m=\u001B[39m\u001B[38;5;28;01mTrue\u001B[39;00m,\n\u001B[0;32m    354\u001B[0m     accumulate_grad\u001B[38;5;241m=\u001B[39m\u001B[38;5;28;01mTrue\u001B[39;00m,\n\u001B[0;32m    355\u001B[0m )\n",
      "File \u001B[1;32mD:\\Software\\anaconda3\\envs\\ox\\Lib\\site-packages\\torch\\autograd\\graph.py:817\u001B[0m, in \u001B[0;36m_engine_run_backward\u001B[1;34m(t_outputs, *args, **kwargs)\u001B[0m\n\u001B[0;32m    815\u001B[0m     unregister_hooks \u001B[38;5;241m=\u001B[39m _register_logging_hooks_on_whole_graph(t_outputs)\n\u001B[0;32m    816\u001B[0m \u001B[38;5;28;01mtry\u001B[39;00m:\n\u001B[1;32m--> 817\u001B[0m     \u001B[38;5;28;01mreturn\u001B[39;00m Variable\u001B[38;5;241m.\u001B[39m_execution_engine\u001B[38;5;241m.\u001B[39mrun_backward(  \u001B[38;5;66;03m# Calls into the C++ engine to run the backward pass\u001B[39;00m\n\u001B[0;32m    818\u001B[0m         t_outputs, \u001B[38;5;241m*\u001B[39margs, \u001B[38;5;241m*\u001B[39m\u001B[38;5;241m*\u001B[39mkwargs\n\u001B[0;32m    819\u001B[0m     )  \u001B[38;5;66;03m# Calls into the C++ engine to run the backward pass\u001B[39;00m\n\u001B[0;32m    820\u001B[0m \u001B[38;5;28;01mfinally\u001B[39;00m:\n\u001B[0;32m    821\u001B[0m     \u001B[38;5;28;01mif\u001B[39;00m attach_logging_hooks:\n",
      "\u001B[1;31mKeyboardInterrupt\u001B[0m: "
     ]
    }
   ],
   "source": [
    "features, target, _, _ = extract_data4vfl_2(indice_begin=0, indice_end=len(InitParameters.DATA_LIST))\n",
    "features = [f.transpose(0, 1, 3, 2) for f in features]\n",
    "x_dim = np.prod(features[0].shape[1:]).item()\n",
    "y_dim = np.prod(target.shape[1:]).item()\n",
    "train_features = [f.reshape(f.shape[0], -1)[:InitParameters.MI_TRAINING_CNT] for f in features]\n",
    "train_target = target.reshape(target.shape[0], -1)[:InitParameters.MI_TRAINING_CNT]\n",
    "for cl_index, cl_f in enumerate(train_features):\n",
    "    # This is the net utilized to calculate the mutual information of two distributions\n",
    "    mi_est = MINE(input_size=x_dim+y_dim, hidden_size=600).to(device='cuda')\n",
    "    mi_est_optim = optim.Adam(mi_est.parameters(), lr=2e-4)\n",
    "    data = np.concatenate((cl_f, train_target), axis=1)\n",
    "    res = mi_train(data=data, mine_net=mi_est, mine_net_optim=mi_est_optim, x_dim=x_dim)\n",
    "\n",
    "    model_save_pth = f\"..\\\\checkpoints\\\\mi_est_{cl_index+1}.pth\"\n",
    "    torch.save(mi_est, model_save_pth)\n",
    "    print(f\"model {cl_index} has been saved to {model_save_pth}!\")"
   ],
   "metadata": {
    "collapsed": false,
    "ExecuteTime": {
     "end_time": "2024-11-13T04:37:18.355348100Z",
     "start_time": "2024-11-13T04:37:05.082221100Z"
    }
   }
  },
  {
   "cell_type": "code",
   "execution_count": 2,
   "outputs": [],
   "source": [
    "model_save_pth = \"..\\\\checkpoints\\\\mi_est_1.pth\""
   ],
   "metadata": {
    "collapsed": false,
    "ExecuteTime": {
     "end_time": "2024-11-11T22:24:33.745494500Z",
     "start_time": "2024-11-11T22:24:33.737512700Z"
    }
   }
  },
  {
   "cell_type": "code",
   "execution_count": 3,
   "outputs": [
    {
     "name": "stderr",
     "output_type": "stream",
     "text": [
      "C:\\Users\\zijun\\AppData\\Local\\Temp\\ipykernel_182012\\2531528104.py:1: FutureWarning: You are using `torch.load` with `weights_only=False` (the current default value), which uses the default pickle module implicitly. It is possible to construct malicious pickle data which will execute arbitrary code during unpickling (See https://github.com/pytorch/pytorch/blob/main/SECURITY.md#untrusted-models for more details). In a future release, the default value for `weights_only` will be flipped to `True`. This limits the functions that could be executed during unpickling. Arbitrary objects will no longer be allowed to be loaded via this mode unless they are explicitly allowlisted by the user via `torch.serialization.add_safe_globals`. We recommend you start setting `weights_only=True` for any use case where you don't have full control of the loaded file. Please open an issue on GitHub for any issues related to this experimental feature.\n",
      "  mi_est_1 = torch.load(model_save_pth)\n"
     ]
    }
   ],
   "source": [
    "mi_est_1 = torch.load(model_save_pth)"
   ],
   "metadata": {
    "collapsed": false,
    "ExecuteTime": {
     "end_time": "2024-11-11T22:24:35.383848200Z",
     "start_time": "2024-11-11T22:24:35.182021300Z"
    }
   }
  },
  {
   "cell_type": "code",
   "execution_count": 2,
   "outputs": [],
   "source": [
    "def mi_data_processing(x_data, y_data, sample_count, model_index=0):\n",
    "    features = [f.transpose(0, 1, 3, 2) for f in x_data]\n",
    "    x_dim = np.prod(features[0].shape[1:]).item()\n",
    "    train_features = [f.reshape(f.shape[0], -1) for f in features]\n",
    "    train_target = y_data.reshape(y_data.shape[0], -1)\n",
    "    data = np.concatenate((train_features[model_index], train_target), axis=1)\n",
    "    _data_joint = sample_batch(data, x_dim, sample_count)\n",
    "    _data_marginal = sample_batch(data, x_dim, sample_count, 'marginal')\n",
    "    _data_joint = torch.tensor(_data_joint, dtype=torch.float32, device='cuda')\n",
    "    _data_marginal = torch.tensor(_data_marginal, dtype=torch.float32, device='cuda')\n",
    "\n",
    "    return _data_joint, _data_marginal"
   ],
   "metadata": {
    "collapsed": false,
    "ExecuteTime": {
     "end_time": "2024-11-13T04:49:53.703142800Z",
     "start_time": "2024-11-13T04:49:53.699831300Z"
    }
   }
  },
  {
   "cell_type": "code",
   "execution_count": 5,
   "outputs": [
    {
     "name": "stdout",
     "output_type": "stream",
     "text": [
      "[0.   0.01 0.05 0.1  0.2  0.3 ]\n"
     ]
    }
   ],
   "source": [
    "# noise_mean_seq = np.linspace(0, 0.3, 4)\n",
    "# noise_std_seq = np.linspace(0, 0.3, 4)\n",
    "noise_mean_seq = np.array([0, 0.01, 0.05, 0.1, 0.2, 0.3])\n",
    "noise_std_seq = np.array([0, 0.01, 0.05, 0.1, 0.2, 0.3])\n",
    "print(noise_mean_seq)"
   ],
   "metadata": {
    "collapsed": false,
    "ExecuteTime": {
     "end_time": "2024-11-11T22:26:35.061528800Z",
     "start_time": "2024-11-11T22:26:35.056151300Z"
    }
   }
  },
  {
   "cell_type": "code",
   "execution_count": 3,
   "outputs": [
    {
     "name": "stderr",
     "output_type": "stream",
     "text": [
      "C:\\Users\\zijun\\AppData\\Local\\Temp\\ipykernel_200652\\2805449065.py:3: FutureWarning: You are using `torch.load` with `weights_only=False` (the current default value), which uses the default pickle module implicitly. It is possible to construct malicious pickle data which will execute arbitrary code during unpickling (See https://github.com/pytorch/pytorch/blob/main/SECURITY.md#untrusted-models for more details). In a future release, the default value for `weights_only` will be flipped to `True`. This limits the functions that could be executed during unpickling. Arbitrary objects will no longer be allowed to be loaded via this mode unless they are explicitly allowlisted by the user via `torch.serialization.add_safe_globals`. We recommend you start setting `weights_only=True` for any use case where you don't have full control of the loaded file. Please open an issue on GitHub for any issues related to this experimental feature.\n",
      "  mi_est = torch.load(model_save_pth)\n"
     ]
    }
   ],
   "source": [
    "model_index = 0\n",
    "model_save_pth = f\"..\\\\checkpoints\\\\mi_est_{model_index+1}.pth\"\n",
    "mi_est = torch.load(model_save_pth)"
   ],
   "metadata": {
    "collapsed": false,
    "ExecuteTime": {
     "end_time": "2024-11-13T04:38:07.402659800Z",
     "start_time": "2024-11-13T04:38:07.300490400Z"
    }
   }
  },
  {
   "cell_type": "code",
   "execution_count": 16,
   "outputs": [
    {
     "name": "stdout",
     "output_type": "stream",
     "text": [
      "noise_mean:0.0 \t noise_std:0.0 \t sample_cnt:50 \t MI_value:0.25613921880722046\n",
      "noise_mean:0.0 \t noise_std:0.01 \t sample_cnt:50 \t MI_value:0.29696255922317505\n",
      "noise_mean:0.0 \t noise_std:0.05 \t sample_cnt:50 \t MI_value:0.3268425166606903\n",
      "noise_mean:0.0 \t noise_std:0.1 \t sample_cnt:50 \t MI_value:0.068004310131073\n",
      "noise_mean:0.0 \t noise_std:0.2 \t sample_cnt:50 \t MI_value:-1.0280821323394775\n",
      "noise_mean:0.0 \t noise_std:0.3 \t sample_cnt:50 \t MI_value:-2.2779088020324707\n",
      "noise_mean:0.01 \t noise_std:0.0 \t sample_cnt:50 \t MI_value:-0.10763333737850189\n",
      "noise_mean:0.01 \t noise_std:0.01 \t sample_cnt:50 \t MI_value:-0.03895918279886246\n",
      "noise_mean:0.01 \t noise_std:0.05 \t sample_cnt:50 \t MI_value:0.1536003053188324\n",
      "noise_mean:0.01 \t noise_std:0.1 \t sample_cnt:50 \t MI_value:0.1345943808555603\n",
      "noise_mean:0.01 \t noise_std:0.2 \t sample_cnt:50 \t MI_value:-0.7603466510772705\n",
      "noise_mean:0.01 \t noise_std:0.3 \t sample_cnt:50 \t MI_value:-2.0681214332580566\n",
      "noise_mean:0.05 \t noise_std:0.0 \t sample_cnt:50 \t MI_value:-1.6011736392974854\n",
      "noise_mean:0.05 \t noise_std:0.01 \t sample_cnt:50 \t MI_value:-1.615098237991333\n",
      "noise_mean:0.05 \t noise_std:0.05 \t sample_cnt:50 \t MI_value:-1.6600737571716309\n",
      "noise_mean:0.05 \t noise_std:0.1 \t sample_cnt:50 \t MI_value:-1.6900676488876343\n",
      "noise_mean:0.05 \t noise_std:0.2 \t sample_cnt:50 \t MI_value:-1.6753469705581665\n",
      "noise_mean:0.05 \t noise_std:0.3 \t sample_cnt:50 \t MI_value:-1.8872520923614502\n",
      "noise_mean:0.1 \t noise_std:0.0 \t sample_cnt:50 \t MI_value:-1.588076114654541\n",
      "noise_mean:0.1 \t noise_std:0.01 \t sample_cnt:50 \t MI_value:-1.6899398565292358\n",
      "noise_mean:0.1 \t noise_std:0.05 \t sample_cnt:50 \t MI_value:-2.105884552001953\n",
      "noise_mean:0.1 \t noise_std:0.1 \t sample_cnt:50 \t MI_value:-2.6317148208618164\n",
      "noise_mean:0.1 \t noise_std:0.2 \t sample_cnt:50 \t MI_value:-3.6351981163024902\n",
      "noise_mean:0.1 \t noise_std:0.3 \t sample_cnt:50 \t MI_value:-4.491466522216797\n",
      "noise_mean:0.2 \t noise_std:0.0 \t sample_cnt:50 \t MI_value:-9.710164070129395\n",
      "noise_mean:0.2 \t noise_std:0.01 \t sample_cnt:50 \t MI_value:-9.772773742675781\n",
      "noise_mean:0.2 \t noise_std:0.05 \t sample_cnt:50 \t MI_value:-10.003056526184082\n",
      "noise_mean:0.2 \t noise_std:0.1 \t sample_cnt:50 \t MI_value:-10.240519523620605\n",
      "noise_mean:0.2 \t noise_std:0.2 \t sample_cnt:50 \t MI_value:-10.512284278869629\n",
      "noise_mean:0.2 \t noise_std:0.3 \t sample_cnt:50 \t MI_value:-10.49618911743164\n",
      "noise_mean:0.3 \t noise_std:0.0 \t sample_cnt:50 \t MI_value:-15.531290054321289\n",
      "noise_mean:0.3 \t noise_std:0.01 \t sample_cnt:50 \t MI_value:-15.455812454223633\n",
      "noise_mean:0.3 \t noise_std:0.05 \t sample_cnt:50 \t MI_value:-15.158828735351562\n",
      "noise_mean:0.3 \t noise_std:0.1 \t sample_cnt:50 \t MI_value:-14.827245712280273\n",
      "noise_mean:0.3 \t noise_std:0.2 \t sample_cnt:50 \t MI_value:-14.454638481140137\n",
      "noise_mean:0.3 \t noise_std:0.3 \t sample_cnt:50 \t MI_value:-14.51095199584961\n"
     ]
    }
   ],
   "source": [
    "import  csv\n",
    "import random\n",
    "\n",
    "sample_time = 1\n",
    "mi_est.eval()\n",
    "np.random.seed()\n",
    "random.seed()\n",
    "for sample_cnt in range(50, 60, 10):\n",
    "    mi_res = list()\n",
    "    for noise_mean in noise_mean_seq:\n",
    "        mi_res_row = list()\n",
    "        for noise_std in noise_std_seq:\n",
    "            features_m, target_m, _, _ = extract_data4vfl_2(indice_begin=0, indice_end=len(InitParameters.DATA_LIST),\n",
    "                                                num_mal=InitParameters.NUM_PASSIVE_CLIENTS, malicious_flag=1, malicious_exist=True, noise_mean=noise_mean, noise_std=noise_std)\n",
    "            data_joint, data_marginal = mi_data_processing(features_m, target_m, sample_count=sample_cnt, model_index=model_index)\n",
    "            mi_out, _, _ = mutual_information(data_joint, data_marginal, mi_est)\n",
    "            print(f'noise_mean:{noise_mean} \\t noise_std:{noise_std} \\t sample_cnt:{sample_cnt} \\t MI_value:{mi_out.detach().cpu().item()}')\n",
    "            mi_res_row.append(round(mi_out.detach().cpu().item(), 2))\n",
    "        mi_res.append(mi_res_row)\n",
    "\n",
    "    with open(f'..\\\\checkpoints\\\\{sample_time}_mal_{model_index+1}_sample_cnt_{sample_cnt}.csv','w',newline='') as file:\n",
    "        writer = csv.writer(file, delimiter=',')\n",
    "        writer.writerows(mi_res)"
   ],
   "metadata": {
    "collapsed": false,
    "ExecuteTime": {
     "end_time": "2024-11-11T22:53:18.065635900Z",
     "start_time": "2024-11-11T22:53:15.552052900Z"
    }
   }
  },
  {
   "cell_type": "code",
   "execution_count": 13,
   "outputs": [
    {
     "name": "stdout",
     "output_type": "stream",
     "text": [
      "Lazy percentage:20.0% \t MI_value: -0.1711665391921997\n",
      "Lazy percentage:40.0% \t MI_value: -1.888205885887146\n",
      "Lazy percentage:60.0% \t MI_value: -3.6094415187835693\n",
      "Lazy percentage:80.0% \t MI_value: -4.129734039306641\n",
      "Lazy percentage:100.0% \t MI_value: -3.8086647987365723\n"
     ]
    }
   ],
   "source": [
    "mi_est.eval()\n",
    "\n",
    "# The data is complete noise generate\n",
    "for lp in np.linspace(0.2, 1, 5):\n",
    "    features_b, target_b, _, _ = extract_data4vfl_2(indice_begin=0, indice_end=len(InitParameters.DATA_LIST),\n",
    "                                                num_mal=InitParameters.NUM_PASSIVE_CLIENTS, malicious_flag=2, malicious_exist=True,lp=lp)\n",
    "    data_joint_b, data_marginal_b = mi_data_processing(features_b, target_b, sample_count=50, model_index=model_index)\n",
    "    mi_out_b, _, _ = mutual_information(data_joint_b, data_marginal_b, mi_est)\n",
    "    print(f'Lazy percentage:{round(lp*100, 1)}% \\t MI_value: {mi_out_b.detach().cpu().item()}')"
   ],
   "metadata": {
    "collapsed": false,
    "ExecuteTime": {
     "end_time": "2024-11-13T04:41:51.460295900Z",
     "start_time": "2024-11-13T04:41:51.019563400Z"
    }
   }
  },
  {
   "cell_type": "code",
   "execution_count": 11,
   "outputs": [
    {
     "name": "stdout",
     "output_type": "stream",
     "text": [
      "[0.2 0.4 0.6 0.8 1. ]\n"
     ]
    }
   ],
   "source": [
    "print(np.linspace(0.2, 1, 5))"
   ],
   "metadata": {
    "collapsed": false,
    "ExecuteTime": {
     "end_time": "2024-11-13T04:40:00.650620400Z",
     "start_time": "2024-11-13T04:40:00.647590200Z"
    }
   }
  },
  {
   "cell_type": "code",
   "execution_count": 6,
   "outputs": [
    {
     "name": "stderr",
     "output_type": "stream",
     "text": [
      "C:\\Users\\zijun\\AppData\\Local\\Temp\\ipykernel_201920\\3048734217.py:6: FutureWarning: You are using `torch.load` with `weights_only=False` (the current default value), which uses the default pickle module implicitly. It is possible to construct malicious pickle data which will execute arbitrary code during unpickling (See https://github.com/pytorch/pytorch/blob/main/SECURITY.md#untrusted-models for more details). In a future release, the default value for `weights_only` will be flipped to `True`. This limits the functions that could be executed during unpickling. Arbitrary objects will no longer be allowed to be loaded via this mode unless they are explicitly allowlisted by the user via `torch.serialization.add_safe_globals`. We recommend you start setting `weights_only=True` for any use case where you don't have full control of the loaded file. Please open an issue on GitHub for any issues related to this experimental feature.\n",
      "  mi_est = torch.load(model_save_pth)\n"
     ]
    },
    {
     "name": "stdout",
     "output_type": "stream",
     "text": [
      "model_index:0 \t Lazy percentage:20.0% \t MI_value: -0.68\n",
      "model_index:0 \t Lazy percentage:40.0% \t MI_value: 0.06\n",
      "model_index:0 \t Lazy percentage:60.0% \t MI_value: -1.73\n",
      "model_index:0 \t Lazy percentage:80.0% \t MI_value: -4.29\n",
      "model_index:0 \t Lazy percentage:100.0% \t MI_value: -3.81\n",
      "model_index:1 \t Lazy percentage:20.0% \t MI_value: 1.14\n",
      "model_index:1 \t Lazy percentage:40.0% \t MI_value: -2.94\n",
      "model_index:1 \t Lazy percentage:60.0% \t MI_value: -6.79\n",
      "model_index:1 \t Lazy percentage:80.0% \t MI_value: -5.9\n",
      "model_index:1 \t Lazy percentage:100.0% \t MI_value: -10.42\n",
      "model_index:2 \t Lazy percentage:20.0% \t MI_value: -2.28\n",
      "model_index:2 \t Lazy percentage:40.0% \t MI_value: -1.97\n",
      "model_index:2 \t Lazy percentage:60.0% \t MI_value: -6.06\n",
      "model_index:2 \t Lazy percentage:80.0% \t MI_value: -5.43\n",
      "model_index:2 \t Lazy percentage:100.0% \t MI_value: -8.26\n",
      "model_index:3 \t Lazy percentage:20.0% \t MI_value: -3.44\n",
      "model_index:3 \t Lazy percentage:40.0% \t MI_value: -3.21\n",
      "model_index:3 \t Lazy percentage:60.0% \t MI_value: -9.67\n",
      "model_index:3 \t Lazy percentage:80.0% \t MI_value: -20.27\n",
      "model_index:3 \t Lazy percentage:100.0% \t MI_value: -13.64\n",
      "model_index:4 \t Lazy percentage:20.0% \t MI_value: -2.37\n",
      "model_index:4 \t Lazy percentage:40.0% \t MI_value: -1.8\n",
      "model_index:4 \t Lazy percentage:60.0% \t MI_value: -7.45\n",
      "model_index:4 \t Lazy percentage:80.0% \t MI_value: -9.59\n",
      "model_index:4 \t Lazy percentage:100.0% \t MI_value: -10.11\n",
      "[-1.53 -1.97 -6.34 -9.1  -9.24]\n"
     ]
    }
   ],
   "source": [
    "# The data is complete noise generate\n",
    "sample_cnt = 50\n",
    "random_data_res = np.zeros(5)\n",
    "for model_index in range(0, 5):\n",
    "    model_save_pth = f\"..\\\\checkpoints\\\\mi_est_{model_index+1}.pth\"\n",
    "    mi_est = torch.load(model_save_pth)\n",
    "    mi_est.eval()\n",
    "\n",
    "    i = 0\n",
    "    for lp in np.linspace(0.2, 1, 5):\n",
    "        features_b, target_b, _, _ = extract_data4vfl_2(indice_begin=0, indice_end=len(InitParameters.DATA_LIST),\n",
    "                                                    num_mal=InitParameters.NUM_PASSIVE_CLIENTS, malicious_flag=2, malicious_exist=True,lp=lp)\n",
    "        data_joint_b, data_marginal_b = mi_data_processing(features_b, target_b, sample_count=50, model_index=model_index)\n",
    "        mi_out_b, _, _ = mutual_information(data_joint_b, data_marginal_b, mi_est)\n",
    "        print(f'model_index:{model_index} \\t Lazy percentage:{round(lp*100, 1)}% \\t MI_value: {round(mi_out_b.detach().cpu().item(),2)}')\n",
    "        random_data_res[i] += round(mi_out_b.detach().cpu().item() / 5,2)\n",
    "        i += 1\n",
    "\n",
    "print(random_data_res)"
   ],
   "metadata": {
    "collapsed": false,
    "ExecuteTime": {
     "end_time": "2024-11-13T04:57:03.616998700Z",
     "start_time": "2024-11-13T04:57:01.534734300Z"
    }
   }
  },
  {
   "cell_type": "code",
   "execution_count": 7,
   "outputs": [
    {
     "name": "stderr",
     "output_type": "stream",
     "text": [
      "C:\\Users\\zijun\\AppData\\Local\\Temp\\ipykernel_201920\\3156154437.py:5: FutureWarning: You are using `torch.load` with `weights_only=False` (the current default value), which uses the default pickle module implicitly. It is possible to construct malicious pickle data which will execute arbitrary code during unpickling (See https://github.com/pytorch/pytorch/blob/main/SECURITY.md#untrusted-models for more details). In a future release, the default value for `weights_only` will be flipped to `True`. This limits the functions that could be executed during unpickling. Arbitrary objects will no longer be allowed to be loaded via this mode unless they are explicitly allowlisted by the user via `torch.serialization.add_safe_globals`. We recommend you start setting `weights_only=True` for any use case where you don't have full control of the loaded file. Please open an issue on GitHub for any issues related to this experimental feature.\n",
      "  mi_est = torch.load(model_save_pth)\n"
     ]
    },
    {
     "name": "stdout",
     "output_type": "stream",
     "text": [
      "model_index:0 \t Lazy percentage:20.0% \t MI_value: -1.09\n",
      "model_index:0 \t Lazy percentage:40.0% \t MI_value: -0.87\n",
      "model_index:0 \t Lazy percentage:60.0% \t MI_value: -3.57\n",
      "model_index:0 \t Lazy percentage:80.0% \t MI_value: -5.22\n",
      "model_index:0 \t Lazy percentage:100.0% \t MI_value: -5.51\n",
      "model_index:1 \t Lazy percentage:20.0% \t MI_value: 0.64\n",
      "model_index:1 \t Lazy percentage:40.0% \t MI_value: -1.89\n",
      "model_index:1 \t Lazy percentage:60.0% \t MI_value: -5.65\n",
      "model_index:1 \t Lazy percentage:80.0% \t MI_value: -7.51\n",
      "model_index:1 \t Lazy percentage:100.0% \t MI_value: -7.11\n",
      "model_index:2 \t Lazy percentage:20.0% \t MI_value: -1.13\n",
      "model_index:2 \t Lazy percentage:40.0% \t MI_value: -1.98\n",
      "model_index:2 \t Lazy percentage:60.0% \t MI_value: -4.27\n",
      "model_index:2 \t Lazy percentage:80.0% \t MI_value: -5.71\n",
      "model_index:2 \t Lazy percentage:100.0% \t MI_value: -9.09\n",
      "model_index:3 \t Lazy percentage:20.0% \t MI_value: 1.2\n",
      "model_index:3 \t Lazy percentage:40.0% \t MI_value: -7.04\n",
      "model_index:3 \t Lazy percentage:60.0% \t MI_value: -8.39\n",
      "model_index:3 \t Lazy percentage:80.0% \t MI_value: -4.3\n",
      "model_index:3 \t Lazy percentage:100.0% \t MI_value: -15.73\n",
      "model_index:4 \t Lazy percentage:20.0% \t MI_value: -0.89\n",
      "model_index:4 \t Lazy percentage:40.0% \t MI_value: -3.39\n",
      "model_index:4 \t Lazy percentage:60.0% \t MI_value: -5.13\n",
      "model_index:4 \t Lazy percentage:80.0% \t MI_value: -7.41\n",
      "model_index:4 \t Lazy percentage:100.0% \t MI_value: -10.63\n",
      "[-0.26 -3.04 -5.4  -6.02 -9.62]\n"
     ]
    }
   ],
   "source": [
    "sample_cnt = 50\n",
    "historical_data_res = np.zeros(5)\n",
    "for model_index in range(0, 5):\n",
    "    model_save_pth = f\"..\\\\checkpoints\\\\mi_est_{model_index+1}.pth\"\n",
    "    mi_est = torch.load(model_save_pth)\n",
    "    mi_est.eval()\n",
    "\n",
    "    i = 0\n",
    "    for lp in np.linspace(0.2, 1, 5):\n",
    "        features_b, target_b, _, _ = extract_data4vfl_2(indice_begin=0, indice_end=len(InitParameters.DATA_LIST),\n",
    "                                                    num_mal=InitParameters.NUM_PASSIVE_CLIENTS, malicious_flag=3, malicious_exist=True,lp=lp)\n",
    "        data_joint_b, data_marginal_b = mi_data_processing(features_b, target_b, sample_count=50, model_index=model_index)\n",
    "        mi_out_b, _, _ = mutual_information(data_joint_b, data_marginal_b, mi_est)\n",
    "        print(f'model_index:{model_index} \\t Lazy percentage:{round(lp*100, 1)}% \\t MI_value: {round(mi_out_b.detach().cpu().item(),2)}')\n",
    "        historical_data_res[i] += round(mi_out_b.detach().cpu().item() / 5,2)\n",
    "        i += 1\n",
    "\n",
    "print(historical_data_res)"
   ],
   "metadata": {
    "collapsed": false,
    "ExecuteTime": {
     "end_time": "2024-11-13T04:58:09.220268400Z",
     "start_time": "2024-11-13T04:58:07.977721900Z"
    }
   }
  },
  {
   "cell_type": "code",
   "execution_count": null,
   "outputs": [],
   "source": [],
   "metadata": {
    "collapsed": false
   }
  }
 ],
 "metadata": {
  "kernelspec": {
   "display_name": "Python 3",
   "language": "python",
   "name": "python3"
  },
  "language_info": {
   "codemirror_mode": {
    "name": "ipython",
    "version": 2
   },
   "file_extension": ".py",
   "mimetype": "text/x-python",
   "name": "python",
   "nbconvert_exporter": "python",
   "pygments_lexer": "ipython2",
   "version": "2.7.6"
  }
 },
 "nbformat": 4,
 "nbformat_minor": 0
}
